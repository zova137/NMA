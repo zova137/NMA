{
  "nbformat": 4,
  "nbformat_minor": 0,
  "metadata": {
    "colab": {
      "name": "Load_steinmetz_decisions_(1)_(1).ipynb",
      "provenance": [],
      "collapsed_sections": [],
      "include_colab_link": true
    },
    "kernelspec": {
      "display_name": "Python 3",
      "language": "python",
      "name": "python3"
    }
  },
  "cells": [
    {
      "cell_type": "markdown",
      "metadata": {
        "id": "view-in-github",
        "colab_type": "text"
      },
      "source": [
        "<a href=\"https://colab.research.google.com/github/zova137/NMA/blob/master/Load_steinmetz_decisions_(1)_(1).ipynb\" target=\"_parent\"><img src=\"https://colab.research.google.com/assets/colab-badge.svg\" alt=\"Open In Colab\"/></a>"
      ]
    },
    {
      "cell_type": "markdown",
      "metadata": {
        "colab_type": "text",
        "id": "bEqdz1ZUMaj1"
      },
      "source": [
        "## Loading of Steinmetz data\n",
        "\n",
        "includes some visualizations"
      ]
    },
    {
      "cell_type": "code",
      "metadata": {
        "id": "vZ1PZt2qINn-",
        "colab_type": "code",
        "cellView": "both",
        "colab": {}
      },
      "source": [
        "#@title Import libraries\n",
        "import os, requests\n",
        "import numpy as np\n",
        "import matplotlib.pyplot as plt\n",
        "import pandas as pd\n",
        "import sklearn\n",
        "import seaborn as sb\n",
        "from sklearn.linear_model import LogisticRegression\n",
        "from sklearn.preprocessing import StandardScaler\n",
        "\n",
        "\n"
      ],
      "execution_count": 84,
      "outputs": []
    },
    {
      "cell_type": "code",
      "metadata": {
        "id": "Z_8s-fFgOhdp",
        "colab_type": "code",
        "colab": {}
      },
      "source": [
        "sb.set(color_codes=True)"
      ],
      "execution_count": 85,
      "outputs": []
    },
    {
      "cell_type": "code",
      "metadata": {
        "cellView": "form",
        "colab_type": "code",
        "id": "TLWjKq8bLDqm",
        "colab": {}
      },
      "source": [
        "#@title Data retrieval\n",
        "\n",
        "\n",
        "fname = []\n",
        "for j in range(3):\n",
        "  fname.append('steinmetz_part%d.npz'%j)\n",
        "url = [\"https://osf.io/agvxh/download\"]\n",
        "url.append(\"https://osf.io/uv3mw/download\")\n",
        "url.append(\"https://osf.io/ehmw2/download\")\n",
        "\n",
        "for j in range(len(url)):\n",
        "  if not os.path.isfile(fname[j]):\n",
        "    try:\n",
        "      r = requests.get(url[j])\n",
        "    except requests.ConnectionError:\n",
        "      print(\"!!! Failed to download data !!!\")\n",
        "    else:\n",
        "      if r.status_code != requests.codes.ok:\n",
        "        print(\"!!! Failed to download data !!!\")\n",
        "      else:\n",
        "        with open(fname[j], \"wb\") as fid:\n",
        "          fid.write(r.content)\n"
      ],
      "execution_count": 86,
      "outputs": []
    },
    {
      "cell_type": "code",
      "metadata": {
        "colab_type": "code",
        "id": "sffzC_hyLgWZ",
        "cellView": "both",
        "colab": {
          "base_uri": "https://localhost:8080/",
          "height": 55
        },
        "outputId": "75890c24-ee01-4bc0-df08-d22e6915b87c"
      },
      "source": [
        "#@title Data loading\n",
        "\n",
        "alldat = np.array([])\n",
        "for j in range(len(fname)):\n",
        "  alldat = np.hstack((alldat, np.load('steinmetz_part%d.npz'%j, allow_pickle=True)['dat']))\n",
        "\n",
        "# select just one of the recordings here. 11 is nice because it has some neurons in vis ctx. \n",
        "dat = alldat[11]  #0:38 recording every 4 recording belong to one mouse I guess\n",
        "print(dat.keys())\n"
      ],
      "execution_count": 87,
      "outputs": [
        {
          "output_type": "stream",
          "text": [
            "dict_keys(['spks', 'wheel', 'pupil', 'response', 'response_time', 'bin_size', 'stim_onset', 'contrast_right', 'contrast_left', 'brain_area', 'feedback_time', 'feedback_type', 'gocue', 'mouse_name', 'date_exp', 'trough_to_peak', 'active_trials', 'contrast_left_passive', 'contrast_right_passive', 'spks_passive', 'pupil_passive', 'wheel_passive', 'prev_reward', 'ccf', 'ccf_axes', 'cellid_orig', 'reaction_time', 'face', 'face_passive', 'licks', 'licks_passive'])\n"
          ],
          "name": "stdout"
        }
      ]
    },
    {
      "cell_type": "markdown",
      "metadata": {
        "id": "IO_c6w_Wh4mG",
        "colab_type": "text"
      },
      "source": [
        "`alldat` contains 39 sessions from 10 mice, Time bins for all measurements are 10ms, starting 500ms before stimulus onset. The mouse had to determine which side has the highest contrast. For each `dat = alldat[k]`, you have the following fields:\n",
        "\n",
        "* `dat['mouse_name']`: mouse name\n",
        "* `dat['contrast_right']`: contrast level for the right stimulus, which is always contralateral to the recorded brain areas.\n",
        "* `dat['contrast_left']`: contrast level for left stimulus. \n",
        "* `dat['response_times']`: when the response was registered, which has to be after the go cue. The mouse can turn the wheel before the go cue (and nearly always does!), but the stimulus on the screen won't move before the go cue.  \n",
        "* `dat['response']`: which side the response was (`-1`, `0`, `1`). When the right-side stimulus had higher contrast, the correct choice was `-1`. `0` is a no go response. \n",
        "* `dat['feedback_time']`: when feedback was provided. \n",
        "* `dat['feedback_type']`: if the feedback was positive (`+1`, reward) or negative (`-1`, white noise burst).\n",
        "* `dat['%X%_passive']`: same as above for `X` = {`spks`, `lfp`, `pupil`, `wheel`, `contrast_left`, `contrast_right`} but for  passive trials at the end of the recording when the mouse was no longer engaged and stopped making responses. \n",
        "\n",
        "\n"
      ]
    },
    {
      "cell_type": "code",
      "metadata": {
        "id": "IY2oIHf4RyDp",
        "colab_type": "code",
        "colab": {}
      },
      "source": [
        ""
      ],
      "execution_count": 87,
      "outputs": []
    },
    {
      "cell_type": "code",
      "metadata": {
        "id": "JMruzxEP0s_K",
        "colab_type": "code",
        "cellView": "both",
        "colab": {}
      },
      "source": [
        "\n",
        "mice_data = []\n",
        "\n",
        "\n",
        "for i, mouse in enumerate(alldat):\n",
        "      response = mouse['response']   #higher contrast in right means -1 & higher contrast in left means 1, has values -1, 0, 1\n",
        "      prev_response = np.zeros(mouse['response'].size)  \n",
        "      prev_response[1:] = response[:response.size - 1]  #for previous response: higher contrast in right means -1 & higher contrast in left means 1, has values -1, 0, 1\n",
        "      response_time = mouse['response_time']\n",
        "      contrast_left = mouse['contrast_left']  # has these values: 0 , .25, .5, 1\n",
        "      contrast_right = mouse['contrast_right']  # has these values: 0 , .25, .5, 1\n",
        "      contrast_sum = contrast_left + contrast_right #useful to exclude no go trials contrast_sum=0\n",
        "      deltaC=contrast_dir = contrast_left - contrast_right  #negative deltaC means right stimulus has higher contrast (same as response )\n",
        "      contrast_diff = 1 - np.abs(contrast_left - contrast_right) #1 is most difficult(same contrast) & 0 is easiest. values are 0,.25, .5, .75, 1\n",
        "      feedback_type = mouse['feedback_type']  #1 for reward or positive response and -1 for negative response\n",
        "      mouse_name = mouse['mouse_name']\n",
        "      #name = np.repeat(mouse['mouse_name'], response.size)\n",
        "      trial_num = np.arange(response.size) + 1\n",
        "      data = pd.DataFrame(np.column_stack(\n",
        "          [trial_num, prev_response, response, response_time, contrast_left, contrast_right, contrast_sum, contrast_diff, contrast_dir,  feedback_type]), \n",
        "                      columns = ['trial number', 'prev response', 'response', 'response time',  'contrast_left', 'contrast sum', 'contrast_right', 'difficulty', 'deltaC','reward' ])\n",
        "      mice_data.append(data) \n",
        "  \n",
        "\n",
        "mice_data = pd.concat(mice_data)  #10050 trials\n",
        "data=mice_data\n"
      ],
      "execution_count": 173,
      "outputs": []
    },
    {
      "cell_type": "code",
      "metadata": {
        "id": "nlLUXd7w5-cP",
        "colab_type": "code",
        "colab": {
          "base_uri": "https://localhost:8080/",
          "height": 415
        },
        "outputId": "d687e1fb-c831-4ba6-b120-fb0262c31a29"
      },
      "source": [
        "data=data.reset_index()\n",
        "del data['index']\n",
        "data.reindex()"
      ],
      "execution_count": 119,
      "outputs": [
        {
          "output_type": "execute_result",
          "data": {
            "text/html": [
              "<div>\n",
              "<style scoped>\n",
              "    .dataframe tbody tr th:only-of-type {\n",
              "        vertical-align: middle;\n",
              "    }\n",
              "\n",
              "    .dataframe tbody tr th {\n",
              "        vertical-align: top;\n",
              "    }\n",
              "\n",
              "    .dataframe thead th {\n",
              "        text-align: right;\n",
              "    }\n",
              "</style>\n",
              "<table border=\"1\" class=\"dataframe\">\n",
              "  <thead>\n",
              "    <tr style=\"text-align: right;\">\n",
              "      <th></th>\n",
              "      <th>trial number</th>\n",
              "      <th>prev response</th>\n",
              "      <th>response</th>\n",
              "      <th>response time</th>\n",
              "      <th>contrast_left</th>\n",
              "      <th>contrast_right</th>\n",
              "      <th>difficulty</th>\n",
              "      <th>deltaC</th>\n",
              "      <th>reward</th>\n",
              "    </tr>\n",
              "  </thead>\n",
              "  <tbody>\n",
              "    <tr>\n",
              "      <th>0</th>\n",
              "      <td>1.0</td>\n",
              "      <td>0.0</td>\n",
              "      <td>1.0</td>\n",
              "      <td>1.150204</td>\n",
              "      <td>1.0</td>\n",
              "      <td>0.00</td>\n",
              "      <td>0.00</td>\n",
              "      <td>1.00</td>\n",
              "      <td>1.0</td>\n",
              "    </tr>\n",
              "    <tr>\n",
              "      <th>1</th>\n",
              "      <td>2.0</td>\n",
              "      <td>1.0</td>\n",
              "      <td>-1.0</td>\n",
              "      <td>1.399503</td>\n",
              "      <td>0.0</td>\n",
              "      <td>0.50</td>\n",
              "      <td>0.50</td>\n",
              "      <td>-0.50</td>\n",
              "      <td>1.0</td>\n",
              "    </tr>\n",
              "    <tr>\n",
              "      <th>2</th>\n",
              "      <td>3.0</td>\n",
              "      <td>-1.0</td>\n",
              "      <td>1.0</td>\n",
              "      <td>0.949291</td>\n",
              "      <td>1.0</td>\n",
              "      <td>0.50</td>\n",
              "      <td>0.50</td>\n",
              "      <td>0.50</td>\n",
              "      <td>1.0</td>\n",
              "    </tr>\n",
              "    <tr>\n",
              "      <th>3</th>\n",
              "      <td>4.0</td>\n",
              "      <td>1.0</td>\n",
              "      <td>0.0</td>\n",
              "      <td>2.266802</td>\n",
              "      <td>0.0</td>\n",
              "      <td>0.00</td>\n",
              "      <td>1.00</td>\n",
              "      <td>0.00</td>\n",
              "      <td>1.0</td>\n",
              "    </tr>\n",
              "    <tr>\n",
              "      <th>4</th>\n",
              "      <td>5.0</td>\n",
              "      <td>0.0</td>\n",
              "      <td>1.0</td>\n",
              "      <td>0.816776</td>\n",
              "      <td>0.5</td>\n",
              "      <td>1.00</td>\n",
              "      <td>0.50</td>\n",
              "      <td>-0.50</td>\n",
              "      <td>-1.0</td>\n",
              "    </tr>\n",
              "    <tr>\n",
              "      <th>...</th>\n",
              "      <td>...</td>\n",
              "      <td>...</td>\n",
              "      <td>...</td>\n",
              "      <td>...</td>\n",
              "      <td>...</td>\n",
              "      <td>...</td>\n",
              "      <td>...</td>\n",
              "      <td>...</td>\n",
              "      <td>...</td>\n",
              "    </tr>\n",
              "    <tr>\n",
              "      <th>10045</th>\n",
              "      <td>339.0</td>\n",
              "      <td>0.0</td>\n",
              "      <td>0.0</td>\n",
              "      <td>2.297503</td>\n",
              "      <td>1.0</td>\n",
              "      <td>0.25</td>\n",
              "      <td>0.25</td>\n",
              "      <td>0.75</td>\n",
              "      <td>-1.0</td>\n",
              "    </tr>\n",
              "    <tr>\n",
              "      <th>10046</th>\n",
              "      <td>340.0</td>\n",
              "      <td>0.0</td>\n",
              "      <td>-1.0</td>\n",
              "      <td>1.158803</td>\n",
              "      <td>1.0</td>\n",
              "      <td>0.25</td>\n",
              "      <td>0.25</td>\n",
              "      <td>0.75</td>\n",
              "      <td>-1.0</td>\n",
              "    </tr>\n",
              "    <tr>\n",
              "      <th>10047</th>\n",
              "      <td>341.0</td>\n",
              "      <td>-1.0</td>\n",
              "      <td>0.0</td>\n",
              "      <td>2.003709</td>\n",
              "      <td>1.0</td>\n",
              "      <td>0.25</td>\n",
              "      <td>0.25</td>\n",
              "      <td>0.75</td>\n",
              "      <td>-1.0</td>\n",
              "    </tr>\n",
              "    <tr>\n",
              "      <th>10048</th>\n",
              "      <td>342.0</td>\n",
              "      <td>0.0</td>\n",
              "      <td>0.0</td>\n",
              "      <td>2.076758</td>\n",
              "      <td>1.0</td>\n",
              "      <td>0.25</td>\n",
              "      <td>0.25</td>\n",
              "      <td>0.75</td>\n",
              "      <td>-1.0</td>\n",
              "    </tr>\n",
              "    <tr>\n",
              "      <th>10049</th>\n",
              "      <td>343.0</td>\n",
              "      <td>0.0</td>\n",
              "      <td>0.0</td>\n",
              "      <td>2.101029</td>\n",
              "      <td>1.0</td>\n",
              "      <td>0.25</td>\n",
              "      <td>0.25</td>\n",
              "      <td>0.75</td>\n",
              "      <td>-1.0</td>\n",
              "    </tr>\n",
              "  </tbody>\n",
              "</table>\n",
              "<p>10050 rows × 9 columns</p>\n",
              "</div>"
            ],
            "text/plain": [
              "       trial number  prev response  response  ...  difficulty  deltaC  reward\n",
              "0               1.0            0.0       1.0  ...        0.00    1.00     1.0\n",
              "1               2.0            1.0      -1.0  ...        0.50   -0.50     1.0\n",
              "2               3.0           -1.0       1.0  ...        0.50    0.50     1.0\n",
              "3               4.0            1.0       0.0  ...        1.00    0.00     1.0\n",
              "4               5.0            0.0       1.0  ...        0.50   -0.50    -1.0\n",
              "...             ...            ...       ...  ...         ...     ...     ...\n",
              "10045         339.0            0.0       0.0  ...        0.25    0.75    -1.0\n",
              "10046         340.0            0.0      -1.0  ...        0.25    0.75    -1.0\n",
              "10047         341.0           -1.0       0.0  ...        0.25    0.75    -1.0\n",
              "10048         342.0            0.0       0.0  ...        0.25    0.75    -1.0\n",
              "10049         343.0            0.0       0.0  ...        0.25    0.75    -1.0\n",
              "\n",
              "[10050 rows x 9 columns]"
            ]
          },
          "metadata": {
            "tags": []
          },
          "execution_count": 119
        }
      ]
    },
    {
      "cell_type": "code",
      "metadata": {
        "id": "r6aZSkr1-BBb",
        "colab_type": "code",
        "cellView": "both",
        "colab": {
          "base_uri": "https://localhost:8080/",
          "height": 294
        },
        "outputId": "67746558-b384-4bae-d5ab-fcad75641801"
      },
      "source": [
        "#@title Describe dataframe\n",
        "  \n",
        "#mice_data.describe(include='all')\n",
        "#data.response_time.describe()"
      ],
      "execution_count": null,
      "outputs": [
        {
          "output_type": "execute_result",
          "data": {
            "text/html": [
              "<div>\n",
              "<style scoped>\n",
              "    .dataframe tbody tr th:only-of-type {\n",
              "        vertical-align: middle;\n",
              "    }\n",
              "\n",
              "    .dataframe tbody tr th {\n",
              "        vertical-align: top;\n",
              "    }\n",
              "\n",
              "    .dataframe thead th {\n",
              "        text-align: right;\n",
              "    }\n",
              "</style>\n",
              "<table border=\"1\" class=\"dataframe\">\n",
              "  <thead>\n",
              "    <tr style=\"text-align: right;\">\n",
              "      <th></th>\n",
              "      <th>trial number</th>\n",
              "      <th>prev response</th>\n",
              "      <th>response</th>\n",
              "      <th>response time</th>\n",
              "      <th>contrast_left</th>\n",
              "      <th>contrast_right</th>\n",
              "      <th>difficulty</th>\n",
              "      <th>deltaC</th>\n",
              "      <th>reward</th>\n",
              "    </tr>\n",
              "  </thead>\n",
              "  <tbody>\n",
              "    <tr>\n",
              "      <th>count</th>\n",
              "      <td>10050.000000</td>\n",
              "      <td>10050.000000</td>\n",
              "      <td>10050.000000</td>\n",
              "      <td>10050.000000</td>\n",
              "      <td>10050.000000</td>\n",
              "      <td>10050.000000</td>\n",
              "      <td>10050.000000</td>\n",
              "      <td>10050.000000</td>\n",
              "      <td>10050.000000</td>\n",
              "    </tr>\n",
              "    <tr>\n",
              "      <th>mean</th>\n",
              "      <td>141.301990</td>\n",
              "      <td>-0.000100</td>\n",
              "      <td>-0.000100</td>\n",
              "      <td>1.422832</td>\n",
              "      <td>0.344478</td>\n",
              "      <td>0.332537</td>\n",
              "      <td>0.567861</td>\n",
              "      <td>0.011940</td>\n",
              "      <td>0.377711</td>\n",
              "    </tr>\n",
              "    <tr>\n",
              "      <th>std</th>\n",
              "      <td>93.717396</td>\n",
              "      <td>0.819153</td>\n",
              "      <td>0.819275</td>\n",
              "      <td>0.661416</td>\n",
              "      <td>0.396888</td>\n",
              "      <td>0.388877</td>\n",
              "      <td>0.377375</td>\n",
              "      <td>0.573613</td>\n",
              "      <td>0.925969</td>\n",
              "    </tr>\n",
              "    <tr>\n",
              "      <th>min</th>\n",
              "      <td>1.000000</td>\n",
              "      <td>-1.000000</td>\n",
              "      <td>-1.000000</td>\n",
              "      <td>0.479414</td>\n",
              "      <td>0.000000</td>\n",
              "      <td>0.000000</td>\n",
              "      <td>0.000000</td>\n",
              "      <td>-1.000000</td>\n",
              "      <td>-1.000000</td>\n",
              "    </tr>\n",
              "    <tr>\n",
              "      <th>25%</th>\n",
              "      <td>65.000000</td>\n",
              "      <td>-1.000000</td>\n",
              "      <td>-1.000000</td>\n",
              "      <td>0.842289</td>\n",
              "      <td>0.000000</td>\n",
              "      <td>0.000000</td>\n",
              "      <td>0.250000</td>\n",
              "      <td>-0.500000</td>\n",
              "      <td>-1.000000</td>\n",
              "    </tr>\n",
              "    <tr>\n",
              "      <th>50%</th>\n",
              "      <td>129.500000</td>\n",
              "      <td>0.000000</td>\n",
              "      <td>0.000000</td>\n",
              "      <td>1.183334</td>\n",
              "      <td>0.250000</td>\n",
              "      <td>0.250000</td>\n",
              "      <td>0.500000</td>\n",
              "      <td>0.000000</td>\n",
              "      <td>1.000000</td>\n",
              "    </tr>\n",
              "    <tr>\n",
              "      <th>75%</th>\n",
              "      <td>204.000000</td>\n",
              "      <td>1.000000</td>\n",
              "      <td>1.000000</td>\n",
              "      <td>2.102538</td>\n",
              "      <td>0.500000</td>\n",
              "      <td>0.500000</td>\n",
              "      <td>1.000000</td>\n",
              "      <td>0.500000</td>\n",
              "      <td>1.000000</td>\n",
              "    </tr>\n",
              "    <tr>\n",
              "      <th>max</th>\n",
              "      <td>447.000000</td>\n",
              "      <td>1.000000</td>\n",
              "      <td>1.000000</td>\n",
              "      <td>2.713576</td>\n",
              "      <td>1.000000</td>\n",
              "      <td>1.000000</td>\n",
              "      <td>1.000000</td>\n",
              "      <td>1.000000</td>\n",
              "      <td>1.000000</td>\n",
              "    </tr>\n",
              "  </tbody>\n",
              "</table>\n",
              "</div>"
            ],
            "text/plain": [
              "       trial number  prev response  ...        deltaC        reward\n",
              "count  10050.000000   10050.000000  ...  10050.000000  10050.000000\n",
              "mean     141.301990      -0.000100  ...      0.011940      0.377711\n",
              "std       93.717396       0.819153  ...      0.573613      0.925969\n",
              "min        1.000000      -1.000000  ...     -1.000000     -1.000000\n",
              "25%       65.000000      -1.000000  ...     -0.500000     -1.000000\n",
              "50%      129.500000       0.000000  ...      0.000000      1.000000\n",
              "75%      204.000000       1.000000  ...      0.500000      1.000000\n",
              "max      447.000000       1.000000  ...      1.000000      1.000000\n",
              "\n",
              "[8 rows x 9 columns]"
            ]
          },
          "metadata": {
            "tags": []
          },
          "execution_count": 72
        }
      ]
    },
    {
      "cell_type": "markdown",
      "metadata": {
        "id": "F-pHQm4iilp-",
        "colab_type": "text"
      },
      "source": [
        "Section below is different catgorizing for one recording (alldat[11]). If you want to make it for all 39 ([0:38])recordings, just change ucomment the last line of dataframe section i.e. data=mice_data"
      ]
    },
    {
      "cell_type": "code",
      "metadata": {
        "id": "-w5e28O-JbG-",
        "colab_type": "code",
        "cellView": "both",
        "colab": {
          "base_uri": "https://localhost:8080/",
          "height": 393
        },
        "outputId": "1ba3f99a-ac05-4d29-8e84-5f753bd9c525"
      },
      "source": [
        "#@title Categorizing based on history & feedback\n",
        "\n",
        "data=data[contrast_sum!=0]  #exclude no go data\n",
        "\n",
        "'''categorized based history which is same(stay) or different(shift)'''\n",
        "stay=data[data['prev response']==data['response']] #109 trials had same ans\n",
        "shift=data[data['prev response']!=data['response']] #243 trials had shifted answer\n",
        "\n",
        "\n",
        "'''categorized based history & reward'''\n",
        "win_stay=stay[stay['reward']==1]  #64 trials\n",
        "lose_stay=stay[stay['reward']==-1]  #45 trials\n",
        "win_shift=shift[shift['reward']==1] #182 trials\n",
        "lose_shift=shift[shift['reward']==-1] #52 trials\n",
        "\n",
        "data['strategy']=np.zeros(len(data))\n",
        "\n",
        "# print(len(data))\n",
        "\n",
        "for j in range(len(data)):\n",
        " \n",
        "  if (data['prev response'][j]==data['response'][j]):\n",
        "    if (data['reward'][j]==1):\n",
        "          data['strategy'][j]='win stay'\n",
        "    elif (data['reward'][j]==-1):\n",
        "          data['strategy'][j]='lose stay'          \n",
        "  else :\n",
        "    if (data['reward'][j]==1):\n",
        "          data['strategy'][j]='win shift'\n",
        "    elif (data['reward'][j]==-1):\n",
        "          data['strategy'][j]='lose shift'\n",
        "\n",
        "\n",
        "#data\n",
        "win_shift\n",
        "#categorized_data=pd.DataFrame[(trial_num, win_stay)], columns=[('no', 'win_stay')]"
      ],
      "execution_count": 169,
      "outputs": [
        {
          "output_type": "error",
          "ename": "ValueError",
          "evalue": "ignored",
          "traceback": [
            "\u001b[0;31m---------------------------------------------------------------------------\u001b[0m",
            "\u001b[0;31mValueError\u001b[0m                                Traceback (most recent call last)",
            "\u001b[0;32m<ipython-input-169-ac539984799f>\u001b[0m in \u001b[0;36m<module>\u001b[0;34m()\u001b[0m\n\u001b[1;32m      1\u001b[0m \u001b[0;31m#@title Categorizing based on history & feedback\u001b[0m\u001b[0;34m\u001b[0m\u001b[0;34m\u001b[0m\u001b[0;34m\u001b[0m\u001b[0m\n\u001b[1;32m      2\u001b[0m \u001b[0;34m\u001b[0m\u001b[0m\n\u001b[0;32m----> 3\u001b[0;31m \u001b[0mdata\u001b[0m\u001b[0;34m=\u001b[0m\u001b[0mdata\u001b[0m\u001b[0;34m[\u001b[0m\u001b[0mcontrast_sum\u001b[0m\u001b[0;34m!=\u001b[0m\u001b[0;36m0\u001b[0m\u001b[0;34m]\u001b[0m  \u001b[0;31m#exclude no go data\u001b[0m\u001b[0;34m\u001b[0m\u001b[0;34m\u001b[0m\u001b[0m\n\u001b[0m\u001b[1;32m      4\u001b[0m \u001b[0;34m\u001b[0m\u001b[0m\n\u001b[1;32m      5\u001b[0m \u001b[0;34m'''categorized based history which is same(stay) or different(shift)'''\u001b[0m\u001b[0;34m\u001b[0m\u001b[0;34m\u001b[0m\u001b[0m\n",
            "\u001b[0;32m/usr/local/lib/python3.6/dist-packages/pandas/core/frame.py\u001b[0m in \u001b[0;36m__getitem__\u001b[0;34m(self, key)\u001b[0m\n\u001b[1;32m   2789\u001b[0m         \u001b[0;31m# Do we have a (boolean) 1d indexer?\u001b[0m\u001b[0;34m\u001b[0m\u001b[0;34m\u001b[0m\u001b[0;34m\u001b[0m\u001b[0m\n\u001b[1;32m   2790\u001b[0m         \u001b[0;32mif\u001b[0m \u001b[0mcom\u001b[0m\u001b[0;34m.\u001b[0m\u001b[0mis_bool_indexer\u001b[0m\u001b[0;34m(\u001b[0m\u001b[0mkey\u001b[0m\u001b[0;34m)\u001b[0m\u001b[0;34m:\u001b[0m\u001b[0;34m\u001b[0m\u001b[0;34m\u001b[0m\u001b[0m\n\u001b[0;32m-> 2791\u001b[0;31m             \u001b[0;32mreturn\u001b[0m \u001b[0mself\u001b[0m\u001b[0;34m.\u001b[0m\u001b[0m_getitem_bool_array\u001b[0m\u001b[0;34m(\u001b[0m\u001b[0mkey\u001b[0m\u001b[0;34m)\u001b[0m\u001b[0;34m\u001b[0m\u001b[0;34m\u001b[0m\u001b[0m\n\u001b[0m\u001b[1;32m   2792\u001b[0m \u001b[0;34m\u001b[0m\u001b[0m\n\u001b[1;32m   2793\u001b[0m         \u001b[0;31m# We are left with two options: a single key, and a collection of keys,\u001b[0m\u001b[0;34m\u001b[0m\u001b[0;34m\u001b[0m\u001b[0;34m\u001b[0m\u001b[0m\n",
            "\u001b[0;32m/usr/local/lib/python3.6/dist-packages/pandas/core/frame.py\u001b[0m in \u001b[0;36m_getitem_bool_array\u001b[0;34m(self, key)\u001b[0m\n\u001b[1;32m   2836\u001b[0m         \u001b[0;32melif\u001b[0m \u001b[0mlen\u001b[0m\u001b[0;34m(\u001b[0m\u001b[0mkey\u001b[0m\u001b[0;34m)\u001b[0m \u001b[0;34m!=\u001b[0m \u001b[0mlen\u001b[0m\u001b[0;34m(\u001b[0m\u001b[0mself\u001b[0m\u001b[0;34m.\u001b[0m\u001b[0mindex\u001b[0m\u001b[0;34m)\u001b[0m\u001b[0;34m:\u001b[0m\u001b[0;34m\u001b[0m\u001b[0;34m\u001b[0m\u001b[0m\n\u001b[1;32m   2837\u001b[0m             raise ValueError(\n\u001b[0;32m-> 2838\u001b[0;31m                 \u001b[0;34mf\"Item wrong length {len(key)} instead of {len(self.index)}.\"\u001b[0m\u001b[0;34m\u001b[0m\u001b[0;34m\u001b[0m\u001b[0m\n\u001b[0m\u001b[1;32m   2839\u001b[0m             )\n\u001b[1;32m   2840\u001b[0m \u001b[0;34m\u001b[0m\u001b[0m\n",
            "\u001b[0;31mValueError\u001b[0m: Item wrong length 343 instead of 10050."
          ]
        }
      ]
    },
    {
      "cell_type": "code",
      "metadata": {
        "id": "dvPJCr5LCGPN",
        "colab_type": "code",
        "colab": {
          "base_uri": "https://localhost:8080/",
          "height": 382
        },
        "outputId": "42759d9d-ea90-4186-fe70-143479ebe1ca"
      },
      "source": [
        "\n",
        "strategy_difficulty=sb.catplot(y=\"difficulty\", hue=\"strategy\", kind=\"count\",\n",
        "            palette=\"pastel\", edgecolor=\".6\",\n",
        "            data=data);"
      ],
      "execution_count": 128,
      "outputs": [
        {
          "output_type": "display_data",
          "data": {
            "image/png": "[encoded data removed]",
            "text/plain": [
              "<Figure size 449.6x360 with 1 Axes>"
            ]
          },
          "metadata": {
            "tags": []
          }
        }
      ]
    },
    {
      "cell_type": "code",
      "metadata": {
        "id": "LdVMt3_uEgQd",
        "colab_type": "code",
        "colab": {
          "base_uri": "https://localhost:8080/",
          "height": 747
        },
        "outputId": "b298e424-9641-4f3a-d395-da7031dddad0"
      },
      "source": [
        "\n",
        "strategy_leftc=sb.catplot(y=\"contrast_left\", hue=\"strategy\", kind=\"count\", palette=\"pastel\", edgecolor=\".6\",data=data);\n",
        "\n",
        "strategy_rightc=sb.catplot(y=\"contrast_right\", hue=\"strategy\", kind=\"count\", palette=\"pastel\", edgecolor=\".6\",data=data);\n"
      ],
      "execution_count": 152,
      "outputs": [
        {
          "output_type": "display_data",
          "data": {
            "image/png": "[encoded data removed]",
            "text/plain": [
              "<Figure size 449.6x360 with 1 Axes>"
            ]
          },
          "metadata": {
            "tags": []
          }
        },
        {
          "output_type": "display_data",
          "data": {
            "image/png": "[encoded data removed]",
            "text/plain": [
              "<Figure size 449.6x360 with 1 Axes>"
            ]
          },
          "metadata": {
            "tags": []
          }
        }
      ]
    },
    {
      "cell_type": "code",
      "metadata": {
        "id": "VhxhM13z-VX-",
        "colab_type": "code",
        "colab": {}
      },
      "source": [
        "data.to_excel(\"strategy2.xlsx\")"
      ],
      "execution_count": 121,
      "outputs": []
    },
    {
      "cell_type": "code",
      "metadata": {
        "id": "leo1RIbiBMca",
        "colab_type": "code",
        "colab": {
          "base_uri": "https://localhost:8080/",
          "height": 171
        },
        "outputId": "84a6df90-0947-4a74-b52a-40eed14100b9"
      },
      "source": [
        "sb.jointplot(x=\"strategy\", y=\"difficulty\", data=all_data);"
      ],
      "execution_count": null,
      "outputs": [
        {
          "output_type": "error",
          "ename": "NameError",
          "evalue": "ignored",
          "traceback": [
            "\u001b[0;31m---------------------------------------------------------------------------\u001b[0m",
            "\u001b[0;31mNameError\u001b[0m                                 Traceback (most recent call last)",
            "\u001b[0;32m<ipython-input-43-396c7b092f4e>\u001b[0m in \u001b[0;36m<module>\u001b[0;34m()\u001b[0m\n\u001b[0;32m----> 1\u001b[0;31m \u001b[0msb\u001b[0m\u001b[0;34m.\u001b[0m\u001b[0mjointplot\u001b[0m\u001b[0;34m(\u001b[0m\u001b[0mx\u001b[0m\u001b[0;34m=\u001b[0m\u001b[0;34m\"strategy\"\u001b[0m\u001b[0;34m,\u001b[0m \u001b[0my\u001b[0m\u001b[0;34m=\u001b[0m\u001b[0;34m\"difficulty\"\u001b[0m\u001b[0;34m,\u001b[0m \u001b[0mdata\u001b[0m\u001b[0;34m=\u001b[0m\u001b[0mall_data\u001b[0m\u001b[0;34m)\u001b[0m\u001b[0;34m;\u001b[0m\u001b[0;34m\u001b[0m\u001b[0;34m\u001b[0m\u001b[0m\n\u001b[0m",
            "\u001b[0;31mNameError\u001b[0m: name 'all_data' is not defined"
          ]
        }
      ]
    },
    {
      "cell_type": "code",
      "metadata": {
        "id": "6-refdA0Whsq",
        "colab_type": "code",
        "cellView": "both",
        "colab": {}
      },
      "source": [
        "#@title Categorizing go tasks(exclude no go) based on history & feedback\n",
        "\n",
        "go=data[contrast_sum!=0]  #198 from 343 trials\n",
        "\n",
        "'''categorized go tasks based history which is same(stay) or different(shift)'''\n",
        "stay=go[go['prev response']==go['response']] #67 trials had same ans\n",
        "shift=go[go['prev response']!=go['response']] #131 trials had shifted answer\n",
        "\n",
        "\n",
        "'''categorized based history & reward'''\n",
        "win_stay=stay[stay['reward']==1]  #46 trials\n",
        "lose_stay=stay[stay['reward']==-1]  #21 trials\n",
        "win_shift=shift[shift['reward']==1] #114 trials\n",
        "lose_shift=shift[shift['reward']==-1] #17 trials\n",
        "\n",
        "#lose_stay.shape"
      ],
      "execution_count": null,
      "outputs": []
    },
    {
      "cell_type": "code",
      "metadata": {
        "id": "TE9bJ2X2vW3c",
        "colab_type": "code",
        "colab": {}
      },
      "source": [
        "strategy==win_stay"
      ],
      "execution_count": null,
      "outputs": []
    },
    {
      "cell_type": "code",
      "metadata": {
        "id": "weJ_ZRUhkoPH",
        "colab_type": "code",
        "colab": {}
      },
      "source": [
        "#@title Categorizing go tasks(exclude no go) based on history & feedback\n",
        "\n",
        "'''categorize based on same ans: left, right, nogo''' \n",
        "\n",
        "same_ans=data[data['prev response']==data['response']]  #109 trials had same ans\n",
        "same_ans_left=data[(data['prev response']==data['response']) & (data['response']==-1)] #54 trials had same ans for rotating left (higher contrast in right)\n",
        "same_ans_right=data[(data['prev response']==data['response']) & (data['response']==1)] #22 trials had same ans for rotating right (higher contrast in left)\n",
        "same_ans_nogo=data[(data['prev response']==data['response']) & (data['response']==0)] #33 trials had same ans for nogo\n",
        "same_ans_exclude_nogo=data[(data['prev response']==data['response']) & (data['response']!=0)] #76 trials, excluded nogo from same answers whether left or right\n",
        "\n",
        "\n",
        "\n",
        "\n",
        "#same_ans_left.shape  #check trial numbers of same response to left\n",
        "#pd.set_option('display.max_rows', None) #display all rows of dataframe\n",
        "#same_ans"
      ],
      "execution_count": null,
      "outputs": []
    },
    {
      "cell_type": "code",
      "metadata": {
        "id": "IyMhMa8y9kC9",
        "colab_type": "code",
        "colab": {}
      },
      "source": [
        "'''categorize same ans based on response time'''\n",
        "\n",
        "same_ans_fast=same_ans[same_ans['response time']<=.9] #32 trials\n",
        "same_ans_mid=same_ans[(same_ans['response time']<=1.5) & (same_ans['response time'] >.9)]  #36 trials\n",
        "same_ans_slow=same_ans[same_ans['response time']>1.5] #41 trials\n",
        "#same_ans_fast.describe(include='all')\n",
        "#same_ans_mid.describe(include='all')\n",
        "#same_ans_slow.describe(include='all')\n",
        "#same_ans_fast.sort_values(by=['response time'])  #doesn't seems meaningful\n",
        "#same_ans_fast.sort_values(by=['deltaC']) #doesn't seem meaningful either\n",
        "same_ans_slow.sort_values(by=['deltaC']) #all nogo task done wrong in <1.9 response time (trial 176, 72 was wrong at response time 2.09 & 2.18) (18 nogo task done correct and all at response time >1.93)"
      ],
      "execution_count": null,
      "outputs": []
    },
    {
      "cell_type": "code",
      "metadata": {
        "id": "ZLrr-iDTy7jJ",
        "colab_type": "code",
        "colab": {}
      },
      "source": [
        "'''categorize same ans based on difficulty of tasks: 1, .75, .5, .25, 0'''\n",
        "\n",
        "same_ans_diff100=same_ans_exclude_nogo[same_ans_exclude_nogo['difficulty']==1]  #24 trials with same ans in difficulty100 (same contrast, nogo task but act was wrong)\n",
        "same_ans_diff75=same_ans_exclude_nogo[same_ans_exclude_nogo['difficulty']==.75]  #10 trials with same ans in difficulty75 (.25 deltaC) - #note: in 2 trial act ws wrong (leftC=.5 & rightC=.25, leftC=.25 & rightC=.0 )\n",
        "same_ans_diff50=same_ans_exclude_nogo[same_ans_exclude_nogo['difficulty']==.5]  #20 trials with same ans in difficulty50 - #note: in 2 trial act was wrong (leftC=1 & rightC=.5)\n",
        "same_ans_diff25=same_ans_exclude_nogo[same_ans_exclude_nogo['difficulty']==.25]  #5 trials with same ans in difficulty25 - #note: in 1 trial act was wrong (leftC=1 & rightC=.25)\n",
        "same_ans_diff0=same_ans_exclude_nogo[same_ans_exclude_nogo['difficulty']==0]  #17 trials with same ans in difficulty0 -#note:check the first trial since it registered as no reward!\n",
        "#same_ans_diff0"
      ],
      "execution_count": null,
      "outputs": []
    },
    {
      "cell_type": "code",
      "metadata": {
        "id": "e5qGpIx4zBFp",
        "colab_type": "code",
        "colab": {}
      },
      "source": [
        "'''categorize same ans left & right based on difficulty of tasks: 1, .75, .5, .25, 0'''\n",
        "\n",
        "same_ans_left_diff100=same_ans_left[same_ans_left['difficulty']==1]  #20 trials with same ans to left in difficulty100 (nogo task but act was wrong)\n",
        "same_ans_left_diff75=same_ans_left[same_ans_left['difficulty']==.75]  #10 trials with same ans to left in difficulty75 = answer to all trials in difficulty of 75 was rotating left - #note: in 2 trial act ws wrong (leftC=.5 & rightC=.25, leftC=.25 & rightC=.0 )\n",
        "same_ans_left_diff50=same_ans_left[same_ans_left['difficulty']==.5]  #9 trials with same ans to left in difficulty50 (7 of 9 trials had one stimulus/50% chance of reward) - #note: in 2 trial act was wrong (leftC=1 & rightC=.5)\n",
        "same_ans_left_diff25=same_ans_left[same_ans_left['difficulty']==.25]  #4 trials with same ans to left in difficulty25 =answer to 4 of 5 trials in difficulty of 25 was rotating left - #note: in 1 trial act was wrong (leftC=1 & rightC=.25)\n",
        "same_ans_left_diff0=same_ans_left[same_ans_left['difficulty']==0]  #11 trials with same ans to left in difficulty0 (11 trials had one stimulus/50% chance for reward)\n",
        "#same_ans_left_diff0.shape\n",
        "\n",
        "\n",
        "same_ans_right_diff100=same_ans_right[same_ans_right['difficulty']==1]  #4 trials with same ans to right in difficulty100 (nogo task but act was wrong)\n",
        "same_ans_right_diff75=same_ans_right[same_ans_right['difficulty']==.75]  #0 trials with same ans to right in difficulty75 \n",
        "same_ans_right_diff50=same_ans_right[same_ans_right['difficulty']==.5]  #11 trials with same ans to right in difficulty50 (9 of 11 trials had one stimulus/50% chance of reward - #note: all 11 trials registered as reward, so maybe in action only 50% received)\n",
        "same_ans_right_diff25=same_ans_right[same_ans_right['difficulty']==.25]  #1 trials with same ans to right in difficulty25 =answer to 4 of 5 trials in difficulty of 25 was rotating left\n",
        "same_ans_right_diff0=same_ans_right[same_ans_right['difficulty']==0]  #6 trials with same ans to right in difficulty0 (6 trials had one stimulus/50% chance for reward) - #note:check the first trial since it registered as no reward!\n",
        "#same_ans_right_diff0\n",
        "\n"
      ],
      "execution_count": null,
      "outputs": []
    },
    {
      "cell_type": "markdown",
      "metadata": {
        "id": "5dqhK8Kq82sZ",
        "colab_type": "text"
      },
      "source": [
        "گراف مقایسه تریال قبل و الان در محور افقی شماره تریال به پاسخ  در دو حالت پاداش و تنبیه\n",
        "\n",
        "گراف شماره تریال به درصد پاسخ درست در حالت های مختلف استیمولوس"
      ]
    },
    {
      "cell_type": "markdown",
      "metadata": {
        "id": "P9Jl9mDkuxBQ",
        "colab_type": "text"
      },
      "source": [
        "**below is whiteboard to empty my mind. no need to read**"
      ]
    },
    {
      "cell_type": "code",
      "metadata": {
        "id": "OKjnZ6QMR0WH",
        "colab_type": "code",
        "colab": {}
      },
      "source": [
        "data.shape  #343 trial \n",
        "#data.describe(include='all')\n",
        "data.response.describe()"
      ],
      "execution_count": null,
      "outputs": []
    },
    {
      "cell_type": "code",
      "metadata": {
        "id": "S5TxZdehWn6_",
        "colab_type": "code",
        "colab": {}
      },
      "source": [
        "went_left = response ==1 \n",
        "prev_went_left = prev_responses ==1  \n",
        "went_right = response ==-1 \n",
        "prev_went_right = prev_responses ==-1 \n",
        "sb.pointplot(x=\"deltaC\", y=\"went_left\", hue=\"prev_went_left\", data=all_data.query('sumC!=0').query('response!=0'), ci=95)"
      ],
      "execution_count": null,
      "outputs": []
    },
    {
      "cell_type": "markdown",
      "metadata": {
        "id": "onqJ8vDuL2y4",
        "colab_type": "text"
      },
      "source": [
        "'''how does the relationship between these two variables change as a function of a third variable?” \n",
        "This is where the difference between regplot() and lmplot() appears. \n",
        "While regplot() always shows a single relationship, lmplot() combines regplot() with FacetGrid to provide an easy interface \n",
        "to show a linear regression on “faceted” plots that allow you to explore interactions with up to three additional categorical variables.\n",
        "\n",
        "The best way to separate out a relationship is to plot both levels on the same axes and to use color to distinguish them:'''\n",
        "\n",
        "\n",
        "\n"
      ]
    },
    {
      "cell_type": "code",
      "metadata": {
        "id": "YtkX02RsRSx4",
        "colab_type": "code",
        "colab": {}
      },
      "source": [
        "sb.pointplot(x=\"deltaC\", y=\"went_right\", hue=\"prev_went_right\", data=all_data.query('sumC!=0').query('response!=0'))"
      ],
      "execution_count": null,
      "outputs": []
    },
    {
      "cell_type": "code",
      "metadata": {
        "id": "seqqnXZTZnfp",
        "colab_type": "code",
        "colab": {}
      },
      "source": [
        "sb.catplot(x=\"prev response\", y=\"response\", hue=\"reward\", col=\"difficulty\", data=all_data, kind=\"point\", dodge=True,height=5, aspect=1);\n"
      ],
      "execution_count": null,
      "outputs": []
    },
    {
      "cell_type": "code",
      "metadata": {
        "id": "5v4kEOtBh6UC",
        "colab_type": "code",
        "colab": {}
      },
      "source": [
        "sns.stripplot(x='continent', y='lifeExp', data=gapminder, alpha=0.3,jitter=0.2,color='k');sb.catplot(x=\"prev response\", y=\"response\", hue=\"reward\", col=\"difficulty\", data=all_data, kind=\"point\", dodge=True, height=5, aspect=1);"
      ],
      "execution_count": null,
      "outputs": []
    },
    {
      "cell_type": "code",
      "metadata": {
        "id": "V7dopybuZXXy",
        "colab_type": "code",
        "colab": {}
      },
      "source": [
        "sb.catplot(x=\"prev response\", y=\"response\", hue=\"reward\", col=\"deltaC\", data=all_data, kind=\"bar\", dodge=True, height=5, aspect=.5);"
      ],
      "execution_count": null,
      "outputs": []
    },
    {
      "cell_type": "code",
      "metadata": {
        "id": "oEz1crLVZ6s9",
        "colab_type": "code",
        "colab": {}
      },
      "source": [
        "sb.lmplot(x=\"prev response\", y=\"response\", col=\"dir\", data=all_data,\n",
        "           aspect=.5);"
      ],
      "execution_count": null,
      "outputs": []
    },
    {
      "cell_type": "code",
      "metadata": {
        "id": "Jymgd8xHCcZ0",
        "colab_type": "code",
        "colab": {}
      },
      "source": [
        "data_plot = all_data[:1000]\n",
        "# red : most difficulty\n",
        "# black : least difficulty\n",
        "colors = ['red', 'green', 'blue', 'yellow', 'black']\n",
        "for i in range(1000):\n",
        "  plt.scatter(data_plot.iloc[i]['response'], data_plot.iloc[i]['prev response'], color = colors[int(data_plot.iloc[i]['dif'] * 4)])\n",
        "\n",
        "\n",
        "plt.xlabel(\"current response\")\n",
        "plt.ylabel(\"previous response\")\n"
      ],
      "execution_count": null,
      "outputs": []
    },
    {
      "cell_type": "code",
      "metadata": {
        "colab_type": "code",
        "id": "vk69J9u-AV-2",
        "colab": {}
      },
      "source": [
        "#@title top PC directions from stimulus + response period, with projections of the entire duration\n",
        "from sklearn.decomposition import PCA \n",
        "\n",
        "droll = np.reshape(dat['spks'][:,:,51:130], (NN,-1)) # first 80 bins = 1.6 sec\n",
        "droll = droll - np.mean(droll, axis=1)[:, np.newaxis]\n",
        "model = PCA(n_components = 5).fit(droll.T)\n",
        "W = model.components_\n",
        "pc_10ms = W @ np.reshape(dat['spks'], (NN,-1))\n",
        "pc_10ms = np.reshape(pc_10ms, (5, -1, NT))"
      ],
      "execution_count": null,
      "outputs": []
    },
    {
      "cell_type": "code",
      "metadata": {
        "colab_type": "code",
        "id": "VmAKoW85hZz7",
        "colab": {}
      },
      "source": [
        "#@title The top PCs capture most variance across the brain. What do they care about? \n",
        "plt.figure(figsize= (20, 6))\n",
        "for j in range(len(pc_10ms)):\n",
        "  ax = plt.subplot(2,len(pc_10ms)+1,j+1)\n",
        "  pc1 = pc_10ms[j]\n",
        "\n",
        "  plt.plot(pc1[np.logical_and(vis_left==0, vis_right>0), :].mean(axis=0))  \n",
        "  plt.plot(pc1[np.logical_and(vis_left>0, vis_right==0), :].mean(axis=0))\n",
        "  plt.plot(pc1[np.logical_and(vis_left==0, vis_right==0), :].mean(axis=0))\n",
        "  plt.plot(pc1[np.logical_and(vis_left>0, vis_right>0), :].mean(axis=0))\n",
        "   \n",
        "  if j==0:\n",
        "    plt.legend(['right only', 'left only', 'neither', 'both'], fontsize=8)\n",
        "  ax.set(xlabel = 'binned time', ylabel = 'mean firing rate (Hz)')\n",
        "  plt.title('PC %d'%j)\n",
        "\n",
        "  ax = plt.subplot(2,len(pc_10ms)+1,len(pc_10ms)+1 + j+1)\n",
        "  \n",
        "  plt.plot(pc1[response>0, :].mean(axis=0))  \n",
        "  plt.plot(pc1[response<0, :].mean(axis=0))\n",
        "  plt.plot(pc1[response==0, :].mean(axis=0))\n",
        "\n",
        "  if j==0:\n",
        "    plt.legend(['resp = left', 'resp = right', 'resp = none'], fontsize=8)\n",
        "  ax.set(xlabel = 'binned time', ylabel = 'mean firing rate (Hz)')\n",
        "  plt.title('PC %d'%j)"
      ],
      "execution_count": null,
      "outputs": []
    },
    {
      "cell_type": "code",
      "metadata": {
        "colab_type": "code",
        "id": "6QZ-eFRwj3at",
        "colab": {}
      },
      "source": [
        "#@title now sort all trials by response latency and see if the PCs care about that.\n",
        "from scipy.stats import zscore\n",
        "\n",
        "isort = np.argsort(dat['response_time'].flatten())\n",
        "\n",
        "for j in range(len(pc_10ms)):\n",
        "  ax = plt.subplot(1,len(pc_10ms)+1,j+1)\n",
        "  pc1 = zscore(pc_10ms[j])\n",
        "  plt.imshow(pc1[isort, :], aspect='auto', vmax=2, vmin = -2, cmap = 'gray')\n",
        "  ax.set(xlabel = 'binned time', ylabel = 'trials sorted by latency')\n",
        "  plt.title('PC %d'%j)"
      ],
      "execution_count": null,
      "outputs": []
    },
    {
      "cell_type": "code",
      "metadata": {
        "colab_type": "code",
        "id": "C-90MWoY15kh",
        "colab": {}
      },
      "source": [
        "#@title correct vs incorrect trials\n",
        "# the following are the correct responses:\n",
        "# if vis_left > vis_right : response >0\n",
        "# if vis_left < vis_right : response <0\n",
        "# if vis_left = vis_right : response =0\n",
        "# trials below red line are incorrect\n",
        "is_correct = np.sign(response)==np.sign(vis_left-vis_right)\n",
        "\n",
        "# sort by correct, and then by response\n",
        "isort = np.argsort(-is_correct.astype('float32') + response/10) \n",
        "\n",
        "nwrong = np.sum(is_correct)\n",
        "for j in range(len(pc_10ms)):\n",
        "  ax = plt.subplot(1,len(pc_10ms)+1,j+1)\n",
        "  pc1 = zscore(pc_10ms[j])\n",
        "  plt.imshow(pc1[isort, :], aspect='auto', vmax=2, vmin = -2, cmap = 'gray')\n",
        "  ax.set(xlabel = 'binned time')\n",
        "  if j==0:\n",
        "    ax.set(ylabel = 'trials sorted by latency')  \n",
        "  plt.title('PC %d'%j)\n",
        "\n",
        "  plt.plot([0, NT], [nwrong, nwrong], 'r')\n"
      ],
      "execution_count": null,
      "outputs": []
    },
    {
      "cell_type": "code",
      "metadata": {
        "colab_type": "code",
        "id": "9JkyGhv0xvCQ",
        "colab": {}
      },
      "source": [
        "# plots by brain region and visual conditions for PASSIVE trials\n",
        "vis_left_p = dat['contrast_left_passive']\n",
        "vis_right_p = dat['contrast_right_passive']\n",
        "for j in range(nareas):\n",
        "  ax = plt.subplot(1,nareas,j+1)\n",
        "  plt.title(regions[j])\n",
        "  \n",
        "  plt.plot(1/dt *  dat['spks_passive'][barea==j][:,np.logical_and(vis_left_p==0, vis_right_p>0)].mean(axis=(0,1)))\n",
        "  plt.plot(1/dt *  dat['spks_passive'][barea==j][:,np.logical_and(vis_left_p>0 , vis_right_p==0)].mean(axis=(0,1)))\n",
        "  #plt.plot(1/dt *  dat['spks_passive'][barea==j][:,np.logical_and(vis_left_p==0 , vis_right_p==0)].mean(axis=(0,1)))\n",
        "  plt.plot(1/dt *  dat['spks_passive'][barea==j][:,np.logical_and(vis_left_p>0, vis_right_p>0)].mean(axis=(0,1)))  \n",
        "  plt.text(.25, .92, 'n=%d'%np.sum(barea==j), transform=ax.transAxes)\n",
        " \n",
        "  if j==0:\n",
        "    plt.legend(['right only', 'left only', 'both'], fontsize=12)\n",
        "  ax.set(xlabel = 'binned time', ylabel = 'mean firing rate (Hz)')"
      ],
      "execution_count": null,
      "outputs": []
    }
  ]
}